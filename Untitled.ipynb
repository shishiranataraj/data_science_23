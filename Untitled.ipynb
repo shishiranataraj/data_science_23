{
 "cells": [
  {
   "cell_type": "markdown",
   "id": "509f3adb",
   "metadata": {},
   "source": [
    "### This is gonna be the place where my journey of data science begins. "
   ]
  },
  {
   "cell_type": "markdown",
   "id": "67432efe",
   "metadata": {},
   "source": [
    "Linear Regression\n"
   ]
  },
  {
   "cell_type": "code",
   "execution_count": 9,
   "id": "5420f87b",
   "metadata": {},
   "outputs": [
    {
     "data": {
      "text/html": [
       "<div>\n",
       "<style scoped>\n",
       "    .dataframe tbody tr th:only-of-type {\n",
       "        vertical-align: middle;\n",
       "    }\n",
       "\n",
       "    .dataframe tbody tr th {\n",
       "        vertical-align: top;\n",
       "    }\n",
       "\n",
       "    .dataframe thead th {\n",
       "        text-align: right;\n",
       "    }\n",
       "</style>\n",
       "<table border=\"1\" class=\"dataframe\">\n",
       "  <thead>\n",
       "    <tr style=\"text-align: right;\">\n",
       "      <th></th>\n",
       "      <th>beds</th>\n",
       "      <th>baths</th>\n",
       "      <th>size</th>\n",
       "      <th>size_units</th>\n",
       "      <th>lot_size</th>\n",
       "      <th>lot_size_units</th>\n",
       "      <th>zip_code</th>\n",
       "      <th>price</th>\n",
       "    </tr>\n",
       "  </thead>\n",
       "  <tbody>\n",
       "    <tr>\n",
       "      <th>0</th>\n",
       "      <td>3</td>\n",
       "      <td>3.0</td>\n",
       "      <td>2850.0</td>\n",
       "      <td>sqft</td>\n",
       "      <td>4200.00</td>\n",
       "      <td>sqft</td>\n",
       "      <td>98119</td>\n",
       "      <td>1175000.0</td>\n",
       "    </tr>\n",
       "    <tr>\n",
       "      <th>1</th>\n",
       "      <td>4</td>\n",
       "      <td>5.0</td>\n",
       "      <td>3040.0</td>\n",
       "      <td>sqft</td>\n",
       "      <td>5002.00</td>\n",
       "      <td>sqft</td>\n",
       "      <td>98106</td>\n",
       "      <td>1057500.0</td>\n",
       "    </tr>\n",
       "    <tr>\n",
       "      <th>2</th>\n",
       "      <td>3</td>\n",
       "      <td>1.0</td>\n",
       "      <td>1290.0</td>\n",
       "      <td>sqft</td>\n",
       "      <td>6048.00</td>\n",
       "      <td>sqft</td>\n",
       "      <td>98125</td>\n",
       "      <td>799000.0</td>\n",
       "    </tr>\n",
       "    <tr>\n",
       "      <th>3</th>\n",
       "      <td>3</td>\n",
       "      <td>2.0</td>\n",
       "      <td>2360.0</td>\n",
       "      <td>sqft</td>\n",
       "      <td>0.28</td>\n",
       "      <td>acre</td>\n",
       "      <td>98188</td>\n",
       "      <td>565000.0</td>\n",
       "    </tr>\n",
       "    <tr>\n",
       "      <th>4</th>\n",
       "      <td>3</td>\n",
       "      <td>3.5</td>\n",
       "      <td>1942.0</td>\n",
       "      <td>sqft</td>\n",
       "      <td>1603.00</td>\n",
       "      <td>sqft</td>\n",
       "      <td>98107</td>\n",
       "      <td>1187000.0</td>\n",
       "    </tr>\n",
       "    <tr>\n",
       "      <th>5</th>\n",
       "      <td>2</td>\n",
       "      <td>2.0</td>\n",
       "      <td>963.0</td>\n",
       "      <td>sqft</td>\n",
       "      <td>4753.00</td>\n",
       "      <td>sqft</td>\n",
       "      <td>98122</td>\n",
       "      <td>701000.0</td>\n",
       "    </tr>\n",
       "    <tr>\n",
       "      <th>6</th>\n",
       "      <td>1</td>\n",
       "      <td>1.0</td>\n",
       "      <td>756.0</td>\n",
       "      <td>sqft</td>\n",
       "      <td>NaN</td>\n",
       "      <td>NaN</td>\n",
       "      <td>98105</td>\n",
       "      <td>480000.0</td>\n",
       "    </tr>\n",
       "    <tr>\n",
       "      <th>7</th>\n",
       "      <td>4</td>\n",
       "      <td>6.0</td>\n",
       "      <td>3300.0</td>\n",
       "      <td>sqft</td>\n",
       "      <td>5810.00</td>\n",
       "      <td>sqft</td>\n",
       "      <td>98199</td>\n",
       "      <td>1795000.0</td>\n",
       "    </tr>\n",
       "    <tr>\n",
       "      <th>8</th>\n",
       "      <td>4</td>\n",
       "      <td>2.0</td>\n",
       "      <td>2060.0</td>\n",
       "      <td>sqft</td>\n",
       "      <td>4206.00</td>\n",
       "      <td>sqft</td>\n",
       "      <td>98144</td>\n",
       "      <td>1025000.0</td>\n",
       "    </tr>\n",
       "    <tr>\n",
       "      <th>9</th>\n",
       "      <td>1</td>\n",
       "      <td>1.0</td>\n",
       "      <td>672.0</td>\n",
       "      <td>sqft</td>\n",
       "      <td>NaN</td>\n",
       "      <td>NaN</td>\n",
       "      <td>98122</td>\n",
       "      <td>450000.0</td>\n",
       "    </tr>\n",
       "  </tbody>\n",
       "</table>\n",
       "</div>"
      ],
      "text/plain": [
       "   beds  baths    size size_units  lot_size lot_size_units  zip_code  \\\n",
       "0     3    3.0  2850.0       sqft   4200.00           sqft     98119   \n",
       "1     4    5.0  3040.0       sqft   5002.00           sqft     98106   \n",
       "2     3    1.0  1290.0       sqft   6048.00           sqft     98125   \n",
       "3     3    2.0  2360.0       sqft      0.28           acre     98188   \n",
       "4     3    3.5  1942.0       sqft   1603.00           sqft     98107   \n",
       "5     2    2.0   963.0       sqft   4753.00           sqft     98122   \n",
       "6     1    1.0   756.0       sqft       NaN            NaN     98105   \n",
       "7     4    6.0  3300.0       sqft   5810.00           sqft     98199   \n",
       "8     4    2.0  2060.0       sqft   4206.00           sqft     98144   \n",
       "9     1    1.0   672.0       sqft       NaN            NaN     98122   \n",
       "\n",
       "       price  \n",
       "0  1175000.0  \n",
       "1  1057500.0  \n",
       "2   799000.0  \n",
       "3   565000.0  \n",
       "4  1187000.0  \n",
       "5   701000.0  \n",
       "6   480000.0  \n",
       "7  1795000.0  \n",
       "8  1025000.0  \n",
       "9   450000.0  "
      ]
     },
     "execution_count": 9,
     "metadata": {},
     "output_type": "execute_result"
    }
   ],
   "source": [
    "import pandas as pd\n",
    "import matplotlib.pyplot as plt\n",
    "df = pd.read_csv('test.csv')\n",
    "\n",
    "df[:10]"
   ]
  },
  {
   "cell_type": "code",
   "execution_count": 32,
   "id": "25234817",
   "metadata": {},
   "outputs": [
    {
     "data": {
      "image/png": "[encoded data removed]",
      "text/plain": [
       "<Figure size 432x288 with 1 Axes>"
      ]
     },
     "metadata": {
      "needs_background": "light"
     },
     "output_type": "display_data"
    }
   ],
   "source": [
    "sorted_df = df.sort_values(by=['beds'])\n",
    "x = sorted_df['beds'][:10]\n",
    "y = sorted_df['price'][:10]\n",
    "plt.plot(x)\n",
    "plt.plot(y)\n",
    "plt.xlabel('beds')\n",
    "plt.ylabel('price')\n",
    "\n",
    "plt.show()"
   ]
  },
  {
   "cell_type": "code",
   "execution_count": 46,
   "id": "6804b216",
   "metadata": {},
   "outputs": [
    {
     "data": {
      "image/png": "[encoded data removed]",
      "text/plain": [
       "<Figure size 432x288 with 1 Axes>"
      ]
     },
     "metadata": {
      "needs_background": "light"
     },
     "output_type": "display_data"
    }
   ],
   "source": [
    "df_2 = df.drop_duplicates(subset=['beds'])\n",
    "sorted_beds = df_2.sort_values(by='beds')\n",
    "x = sorted_beds['beds']\n",
    "y = sorted_beds['price']\n",
    "\n",
    "plt.plot(x,y)\n",
    "\n",
    "plt.show()"
   ]
  },
  {
   "cell_type": "code",
   "execution_count": 45,
   "id": "af6452ce",
   "metadata": {},
   "outputs": [
    {
     "data": {
      "text/plain": [
       "6      1\n",
       "5      2\n",
       "0      3\n",
       "1      4\n",
       "46     5\n",
       "241    6\n",
       "42     7\n",
       "89     9\n",
       "Name: beds, dtype: int64"
      ]
     },
     "execution_count": 45,
     "metadata": {},
     "output_type": "execute_result"
    }
   ],
   "source": [
    "x"
   ]
  },
  {
   "cell_type": "code",
   "execution_count": null,
   "id": "36d366b6",
   "metadata": {},
   "outputs": [],
   "source": []
  }
 ],
 "metadata": {
  "kernelspec": {
   "display_name": "Python 3 (ipykernel)",
   "language": "python",
   "name": "python3"
  },
  "language_info": {
   "codemirror_mode": {
    "name": "ipython",
    "version": 3
   },
   "file_extension": ".py",
   "mimetype": "text/x-python",
   "name": "python",
   "nbconvert_exporter": "python",
   "pygments_lexer": "ipython3",
   "version": "3.8.13"
  }
 },
 "nbformat": 4,
 "nbformat_minor": 5
}
